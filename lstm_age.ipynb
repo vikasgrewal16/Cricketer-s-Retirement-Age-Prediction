{
 "cells": [
  {
   "cell_type": "code",
   "execution_count": 1,
   "id": "54482fae",
   "metadata": {},
   "outputs": [],
   "source": [
    "import pandas as pd\n",
    "import numpy as np\n",
    "import csv\n",
    "import math\n",
    "%matplotlib inline\n",
    "import matplotlib. pyplot as plt\n",
    "import matplotlib\n",
    "from sklearn.preprocessing import MinMaxScaler\n",
    "from keras.layers import LSTM, Dense, Dropout\n",
    "from sklearn.model_selection import TimeSeriesSplit\n",
    "from sklearn.metrics import mean_squared_error, r2_score\n",
    "import matplotlib.dates as mandates\n",
    "from sklearn.preprocessing import MinMaxScaler\n",
    "from sklearn import linear_model\n",
    "from keras.models import Sequential\n",
    "from keras.layers import Dense\n",
    "import keras.backend as K\n",
    "from keras.callbacks import EarlyStopping\n",
    "from keras.optimizers import Adam\n",
    "from keras.models import load_model\n",
    "from keras.layers import LSTM\n",
    "from keras.utils.vis_utils import plot_model"
   ]
  },
  {
   "cell_type": "code",
   "execution_count": 2,
   "id": "144fd086",
   "metadata": {},
   "outputs": [],
   "source": [
    "def mse(pre, act):\n",
    "    er = 0\n",
    "    for i in range(len(pre)):\n",
    "        er +=(pre[i][0]-act[i])**2\n",
    "    er = er/len(pre)\n",
    "    er = er**(1/2)\n",
    "    er = er/(sum(act)/len(act))\n",
    "    return (1-er)*100"
   ]
  },
  {
   "cell_type": "code",
   "execution_count": 16,
   "id": "a94dc5a0",
   "metadata": {},
   "outputs": [],
   "source": [
    "def add_data(filename, data):\n",
    "    to_add = []\n",
    "    with open(filename, mode='r')as csvfile:\n",
    "        csvFile = csv.reader(csvfile)\n",
    "        for lines in csvFile:\n",
    "            to_add.append(lines)\n",
    "\n",
    "    # data rows of csv file\n",
    "    rows = [data]\n",
    "\n",
    "    for i in rows:\n",
    "        to_add.append(i)\n",
    "\n",
    "    # writing to csv file\n",
    "    with open(filename, 'w') as csvfile:\n",
    "        # creating a csv writer object\n",
    "        csvwriter = csv.writer(csvfile)\n",
    "\n",
    "        # writing the data rows\n",
    "        for j in to_add:\n",
    "            if (j == []):\n",
    "                continue\n",
    "            else:\n",
    "                csvwriter.writerow(j)\n"
   ]
  },
  {
   "cell_type": "code",
   "execution_count": 4,
   "id": "cca35023",
   "metadata": {},
   "outputs": [],
   "source": [
    "data = pd.read_csv(\"data_age.csv\")\n",
    "data = data.sample(frac=1)"
   ]
  },
  {
   "cell_type": "code",
   "execution_count": 5,
   "id": "a3470c06",
   "metadata": {},
   "outputs": [],
   "source": [
    "#Set Target Variable\n",
    "output_var = pd.DataFrame(data['Retirement'])\n",
    "#Selecting the Features\n",
    "features = [\n",
    "\t\"Debut Age (yrs)\",\"No of innings\",\t\"cummulative runs\", \"number of fiftees\"]\n"
   ]
  },
  {
   "cell_type": "code",
   "execution_count": 6,
   "id": "4273a01d",
   "metadata": {},
   "outputs": [
    {
     "data": {
      "text/html": [
       "<div>\n",
       "<style scoped>\n",
       "    .dataframe tbody tr th:only-of-type {\n",
       "        vertical-align: middle;\n",
       "    }\n",
       "\n",
       "    .dataframe tbody tr th {\n",
       "        vertical-align: top;\n",
       "    }\n",
       "\n",
       "    .dataframe thead th {\n",
       "        text-align: right;\n",
       "    }\n",
       "</style>\n",
       "<table border=\"1\" class=\"dataframe\">\n",
       "  <thead>\n",
       "    <tr style=\"text-align: right;\">\n",
       "      <th></th>\n",
       "      <th>Debut Age (yrs)</th>\n",
       "      <th>No of innings</th>\n",
       "      <th>cummulative runs</th>\n",
       "      <th>number of fiftees</th>\n",
       "    </tr>\n",
       "  </thead>\n",
       "  <tbody>\n",
       "    <tr>\n",
       "      <th>0</th>\n",
       "      <td>0.201526</td>\n",
       "      <td>0.426752</td>\n",
       "      <td>0.509899</td>\n",
       "      <td>0.656863</td>\n",
       "    </tr>\n",
       "    <tr>\n",
       "      <th>1</th>\n",
       "      <td>0.786580</td>\n",
       "      <td>0.254777</td>\n",
       "      <td>0.248144</td>\n",
       "      <td>0.411765</td>\n",
       "    </tr>\n",
       "    <tr>\n",
       "      <th>2</th>\n",
       "      <td>0.230027</td>\n",
       "      <td>0.745223</td>\n",
       "      <td>0.809728</td>\n",
       "      <td>0.872549</td>\n",
       "    </tr>\n",
       "    <tr>\n",
       "      <th>3</th>\n",
       "      <td>0.413824</td>\n",
       "      <td>0.662420</td>\n",
       "      <td>0.750048</td>\n",
       "      <td>0.872549</td>\n",
       "    </tr>\n",
       "    <tr>\n",
       "      <th>4</th>\n",
       "      <td>0.117819</td>\n",
       "      <td>0.369427</td>\n",
       "      <td>0.100324</td>\n",
       "      <td>0.049020</td>\n",
       "    </tr>\n",
       "  </tbody>\n",
       "</table>\n",
       "</div>"
      ],
      "text/plain": [
       "   Debut Age (yrs)  No of innings  cummulative runs  number of fiftees\n",
       "0         0.201526       0.426752          0.509899           0.656863\n",
       "1         0.786580       0.254777          0.248144           0.411765\n",
       "2         0.230027       0.745223          0.809728           0.872549\n",
       "3         0.413824       0.662420          0.750048           0.872549\n",
       "4         0.117819       0.369427          0.100324           0.049020"
      ]
     },
     "execution_count": 6,
     "metadata": {},
     "output_type": "execute_result"
    }
   ],
   "source": [
    "from sklearn.preprocessing import MinMaxScaler\n",
    "scaler = MinMaxScaler()\n",
    "feature_transform = scaler.fit_transform(data[features])\n",
    "feature_transform= pd.DataFrame(columns=features, data=feature_transform, index=data.index)\n",
    "feature_transform.head()\n",
    "# feature_transform"
   ]
  },
  {
   "cell_type": "code",
   "execution_count": 7,
   "id": "9a0fb91d",
   "metadata": {},
   "outputs": [],
   "source": [
    "#Splitting to Training set and Test set\n",
    "timesplit= TimeSeriesSplit(n_splits=5)\n",
    "for train_index, test_index in timesplit.split(feature_transform):\n",
    "        X_train, X_test = feature_transform[:len(train_index)], feature_transform[len(train_index): (len(train_index)+len(test_index))]\n",
    "        y_train, y_test = output_var[:len(train_index)].values.ravel(), output_var[len(train_index): (len(train_index)+len(test_index))].values.ravel()"
   ]
  },
  {
   "cell_type": "code",
   "execution_count": 8,
   "id": "1e63f5f4",
   "metadata": {},
   "outputs": [],
   "source": [
    "#Process the data for LSTM\n",
    "trainX =np.array(X_train)\n",
    "testX =np.array(X_test)\n",
    "X_train = trainX.reshape(X_train.shape[0], 1, X_train.shape[1])\n",
    "X_test = testX.reshape(X_test.shape[0], 1, X_test.shape[1])"
   ]
  },
  {
   "cell_type": "code",
   "execution_count": 9,
   "id": "f04544b8",
   "metadata": {},
   "outputs": [],
   "source": [
    "#Building the LSTM Model\n",
    "lstm = Sequential()\n",
    "lstm.add(LSTM(32, input_shape=(1, trainX.shape[1]), activation='relu', return_sequences=False))\n",
    "lstm.add(Dense(5))\n",
    "lstm.add(Dense(1))\n",
    "lstm.compile(loss='mean_squared_error', optimizer='adam', metrics=['accuracy']\n",
    "             )\n"
   ]
  },
  {
   "cell_type": "code",
   "execution_count": 10,
   "id": "c8996163",
   "metadata": {},
   "outputs": [],
   "source": [
    "history=lstm.fit(X_train, y_train, epochs=750, batch_size=8, verbose=0, shuffle=False)"
   ]
  },
  {
   "cell_type": "code",
   "execution_count": 11,
   "id": "4c3df661",
   "metadata": {},
   "outputs": [
    {
     "name": "stdout",
     "output_type": "stream",
     "text": [
      "1/1 [==============================] - 0s 212ms/step\n",
      "Model: \"sequential\"\n",
      "_________________________________________________________________\n",
      " Layer (type)                Output Shape              Param #   \n",
      "=================================================================\n",
      " lstm (LSTM)                 (None, 32)                4736      \n",
      "                                                                 \n",
      " dense (Dense)               (None, 5)                 165       \n",
      "                                                                 \n",
      " dense_1 (Dense)             (None, 1)                 6         \n",
      "                                                                 \n",
      "=================================================================\n",
      "Total params: 4,907\n",
      "Trainable params: 4,907\n",
      "Non-trainable params: 0\n",
      "_________________________________________________________________\n",
      "None\n"
     ]
    },
    {
     "name": "stderr",
     "output_type": "stream",
     "text": [
      "C:\\Users\\deeps\\AppData\\Local\\Temp\\ipykernel_12028\\520089183.py:7: RuntimeWarning: divide by zero encountered in double_scalars\n",
      "  er = er/(sum(act)/len(act))\n"
     ]
    }
   ],
   "source": [
    "y_pred= lstm.predict(X_test)\n",
    "print(lstm.summary())\n"
   ]
  },
  {
   "cell_type": "code",
   "execution_count": 12,
   "id": "72d626ba",
   "metadata": {},
   "outputs": [
    {
     "data": {
      "image/png": "[encoded data removed]",
      "text/plain": [
       "<Figure size 640x480 with 1 Axes>"
      ]
     },
     "metadata": {},
     "output_type": "display_data"
    },
    {
     "name": "stdout",
     "output_type": "stream",
     "text": [
      "[[35.163883]\n",
      " [39.088036]\n",
      " [37.66438 ]\n",
      " [39.19405 ]\n",
      " [34.00548 ]\n",
      " [36.530724]\n",
      " [41.517918]\n",
      " [38.804276]\n",
      " [39.65931 ]\n",
      " [40.297943]]\n",
      "[0. 0. 0. 0. 0. 0. 0. 0. 0. 0.]\n"
     ]
    }
   ],
   "source": [
    "plt.plot(y_test, label='True Value')\n",
    "plt.plot(y_pred, label='LSTM Value')\n",
    "plt.title(\"Prediction by LSTM\")\n",
    "plt.xlabel('Player')\n",
    "plt.ylabel('Retirement Age')\n",
    "plt.legend()\n",
    "plt.show()"
   ]
  },
  {
   "cell_type": "code",
   "execution_count": 17,
   "id": "07e9199b",
   "metadata": {},
   "outputs": [
    {
     "name": "stdout",
     "output_type": "stream",
     "text": [
      "-inf\n"
     ]
    }
   ],
   "source": [
    "mean_sqaure_error = mse(y_pred, y_test)\n",
    "print(mean_sqaure_error)\n",
    "# add = []\n",
    "# for i in y_pred:\n",
    "#     add.append(i[0])\n",
    "# add_data(\"predicted_age.csv\",add)"
   ]
  }
 ],
 "metadata": {
  "kernelspec": {
   "display_name": "Python 3 (ipykernel)",
   "language": "python",
   "name": "python3"
  },
  "language_info": {
   "codemirror_mode": {
    "name": "ipython",
    "version": 3
   },
   "file_extension": ".py",
   "mimetype": "text/x-python",
   "name": "python",
   "nbconvert_exporter": "python",
   "pygments_lexer": "ipython3",
   "version": "3.10.2"
  }
 },
 "nbformat": 4,
 "nbformat_minor": 5
}
